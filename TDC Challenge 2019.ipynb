{
 "cells": [
  {
   "cell_type": "markdown",
   "metadata": {},
   "source": [
    "## Incidents Responded to by Fire Companies\n",
    "Web url: https://data.cityofnewyork.us/Public-Safety/Incidents-Responded-to-by-Fire-Companies/tm6d-hbzd\n",
    "**National Fire Incident Reporting System (NFIRS)** contains information like the kind of incident responded to, where it occurred, the resources used to mitigate it. *Goal is to understand the nature and causes of fire, as well as civilian fire casualties and firefighter injuries, and has been expanded to collect basic information on all incidents to which fire units respond.*"
   ]
  },
  {
   "cell_type": "code",
   "execution_count": 3,
   "metadata": {
    "collapsed": true
   },
   "outputs": [],
   "source": [
    "import numpy as np\n",
    "from matplotlib import pyplot as plt\n",
    "import pandas as pd\n",
    "from sklearn import linear_model\n",
    "from sklearn.metrics import r2_score\n",
    "import datetime\n",
    "plt.style.use('ggplot')"
   ]
  },
  {
   "cell_type": "code",
   "execution_count": 4,
   "metadata": {},
   "outputs": [
    {
     "name": "stderr",
     "output_type": "stream",
     "text": [
      "C:\\Users\\Sangy\\Anaconda3\\lib\\site-packages\\IPython\\core\\interactiveshell.py:2698: DtypeWarning: Columns (1,14) have mixed types. Specify dtype option on import or set low_memory=False.\n",
      "  interactivity=interactivity, compiler=compiler, result=result)\n"
     ]
    },
    {
     "name": "stdout",
     "output_type": "stream",
     "text": [
      "2277779\n"
     ]
    }
   ],
   "source": [
    "data=pd.read_csv(\"Incidents_Responded_to_by_Fire_Companies.csv\")\n",
    "print(len(data))"
   ]
  },
  {
   "cell_type": "code",
   "execution_count": 5,
   "metadata": {},
   "outputs": [
    {
     "data": {
      "text/html": [
       "<div>\n",
       "<style>\n",
       "    .dataframe thead tr:only-child th {\n",
       "        text-align: right;\n",
       "    }\n",
       "\n",
       "    .dataframe thead th {\n",
       "        text-align: left;\n",
       "    }\n",
       "\n",
       "    .dataframe tbody tr th {\n",
       "        vertical-align: top;\n",
       "    }\n",
       "</style>\n",
       "<table border=\"1\" class=\"dataframe\">\n",
       "  <thead>\n",
       "    <tr style=\"text-align: right;\">\n",
       "      <th></th>\n",
       "      <th>IM_INCIDENT_KEY</th>\n",
       "      <th>FIRE_BOX</th>\n",
       "      <th>INCIDENT_TYPE_DESC</th>\n",
       "      <th>INCIDENT_DATE_TIME</th>\n",
       "      <th>ARRIVAL_DATE_TIME</th>\n",
       "      <th>UNITS_ONSCENE</th>\n",
       "      <th>LAST_UNIT_CLEARED_DATE_TIME</th>\n",
       "      <th>HIGHEST_LEVEL_DESC</th>\n",
       "      <th>TOTAL_INCIDENT_DURATION</th>\n",
       "      <th>ACTION_TAKEN1_DESC</th>\n",
       "      <th>...</th>\n",
       "      <th>ZIP_CODE</th>\n",
       "      <th>BOROUGH_DESC</th>\n",
       "      <th>FLOOR</th>\n",
       "      <th>CO_DETECTOR_PRESENT_DESC</th>\n",
       "      <th>FIRE_ORIGIN_BELOW_GRADE_FLAG</th>\n",
       "      <th>STORY_FIRE_ORIGIN_COUNT</th>\n",
       "      <th>FIRE_SPREAD_DESC</th>\n",
       "      <th>DETECTOR_PRESENCE_DESC</th>\n",
       "      <th>AES_PRESENCE_DESC</th>\n",
       "      <th>STANDPIPE_SYS_PRESENT_FLAG</th>\n",
       "    </tr>\n",
       "  </thead>\n",
       "  <tbody>\n",
       "    <tr>\n",
       "      <th>0</th>\n",
       "      <td>55672688</td>\n",
       "      <td>2147</td>\n",
       "      <td>300 - Rescue, EMS incident, other</td>\n",
       "      <td>01/01/2013 12:00:20 AM</td>\n",
       "      <td>01/01/2013 12:14:23 AM</td>\n",
       "      <td>1.0</td>\n",
       "      <td>01/01/2013 12:20:06 AM</td>\n",
       "      <td>1 - More than initial alarm, less than Signal 7-5</td>\n",
       "      <td>1186.0</td>\n",
       "      <td>00 - Action taken, other</td>\n",
       "      <td>...</td>\n",
       "      <td>10454</td>\n",
       "      <td>2 - Bronx</td>\n",
       "      <td>NaN</td>\n",
       "      <td>NaN</td>\n",
       "      <td>NaN</td>\n",
       "      <td>NaN</td>\n",
       "      <td>NaN</td>\n",
       "      <td>NaN</td>\n",
       "      <td>NaN</td>\n",
       "      <td>NaN</td>\n",
       "    </tr>\n",
       "    <tr>\n",
       "      <th>1</th>\n",
       "      <td>55672692</td>\n",
       "      <td>818</td>\n",
       "      <td>735A - Unwarranted alarm/defective condition o...</td>\n",
       "      <td>01/01/2013 12:00:37 AM</td>\n",
       "      <td>01/01/2013 12:09:03 AM</td>\n",
       "      <td>3.0</td>\n",
       "      <td>01/01/2013 12:30:06 AM</td>\n",
       "      <td>1 - More than initial alarm, less than Signal 7-5</td>\n",
       "      <td>1769.0</td>\n",
       "      <td>86 - Investigate</td>\n",
       "      <td>...</td>\n",
       "      <td>10036</td>\n",
       "      <td>1 - Manhattan</td>\n",
       "      <td>NaN</td>\n",
       "      <td>NaN</td>\n",
       "      <td>NaN</td>\n",
       "      <td>NaN</td>\n",
       "      <td>NaN</td>\n",
       "      <td>NaN</td>\n",
       "      <td>NaN</td>\n",
       "      <td>NaN</td>\n",
       "    </tr>\n",
       "    <tr>\n",
       "      <th>2</th>\n",
       "      <td>55672693</td>\n",
       "      <td>9656</td>\n",
       "      <td>300 - Rescue, EMS incident, other</td>\n",
       "      <td>01/01/2013 12:01:17 AM</td>\n",
       "      <td>01/01/2013 12:04:55 AM</td>\n",
       "      <td>1.0</td>\n",
       "      <td>01/01/2013 12:15:18 AM</td>\n",
       "      <td>1 - More than initial alarm, less than Signal 7-5</td>\n",
       "      <td>841.0</td>\n",
       "      <td>00 - Action taken, other</td>\n",
       "      <td>...</td>\n",
       "      <td>11418</td>\n",
       "      <td>5 - Queens</td>\n",
       "      <td>NaN</td>\n",
       "      <td>NaN</td>\n",
       "      <td>NaN</td>\n",
       "      <td>NaN</td>\n",
       "      <td>NaN</td>\n",
       "      <td>NaN</td>\n",
       "      <td>NaN</td>\n",
       "      <td>NaN</td>\n",
       "    </tr>\n",
       "    <tr>\n",
       "      <th>3</th>\n",
       "      <td>55672695</td>\n",
       "      <td>7412</td>\n",
       "      <td>412 - Gas leak (natural gas or LPG)</td>\n",
       "      <td>01/01/2013 12:02:32 AM</td>\n",
       "      <td>01/01/2013 12:07:48 AM</td>\n",
       "      <td>4.0</td>\n",
       "      <td>01/01/2013 12:40:11 AM</td>\n",
       "      <td>1 - More than initial alarm, less than Signal 7-5</td>\n",
       "      <td>2259.0</td>\n",
       "      <td>44 - Hazardous materials leak control &amp; contai...</td>\n",
       "      <td>...</td>\n",
       "      <td>11103</td>\n",
       "      <td>5 - Queens</td>\n",
       "      <td>1</td>\n",
       "      <td>NaN</td>\n",
       "      <td>NaN</td>\n",
       "      <td>NaN</td>\n",
       "      <td>NaN</td>\n",
       "      <td>NaN</td>\n",
       "      <td>NaN</td>\n",
       "      <td>NaN</td>\n",
       "    </tr>\n",
       "    <tr>\n",
       "      <th>4</th>\n",
       "      <td>55672697</td>\n",
       "      <td>4019</td>\n",
       "      <td>735A - Unwarranted alarm/defective condition o...</td>\n",
       "      <td>01/01/2013 12:01:49 AM</td>\n",
       "      <td>01/01/2013 12:06:27 AM</td>\n",
       "      <td>6.0</td>\n",
       "      <td>01/01/2013 12:24:56 AM</td>\n",
       "      <td>1 - More than initial alarm, less than Signal 7-5</td>\n",
       "      <td>1387.0</td>\n",
       "      <td>86 - Investigate</td>\n",
       "      <td>...</td>\n",
       "      <td>11385</td>\n",
       "      <td>5 - Queens</td>\n",
       "      <td>NaN</td>\n",
       "      <td>NaN</td>\n",
       "      <td>NaN</td>\n",
       "      <td>NaN</td>\n",
       "      <td>NaN</td>\n",
       "      <td>NaN</td>\n",
       "      <td>NaN</td>\n",
       "      <td>NaN</td>\n",
       "    </tr>\n",
       "  </tbody>\n",
       "</table>\n",
       "<p>5 rows × 24 columns</p>\n",
       "</div>"
      ],
      "text/plain": [
       "   IM_INCIDENT_KEY FIRE_BOX  \\\n",
       "0         55672688     2147   \n",
       "1         55672692      818   \n",
       "2         55672693     9656   \n",
       "3         55672695     7412   \n",
       "4         55672697     4019   \n",
       "\n",
       "                                  INCIDENT_TYPE_DESC      INCIDENT_DATE_TIME  \\\n",
       "0                  300 - Rescue, EMS incident, other  01/01/2013 12:00:20 AM   \n",
       "1  735A - Unwarranted alarm/defective condition o...  01/01/2013 12:00:37 AM   \n",
       "2                  300 - Rescue, EMS incident, other  01/01/2013 12:01:17 AM   \n",
       "3                412 - Gas leak (natural gas or LPG)  01/01/2013 12:02:32 AM   \n",
       "4  735A - Unwarranted alarm/defective condition o...  01/01/2013 12:01:49 AM   \n",
       "\n",
       "        ARRIVAL_DATE_TIME  UNITS_ONSCENE LAST_UNIT_CLEARED_DATE_TIME  \\\n",
       "0  01/01/2013 12:14:23 AM            1.0      01/01/2013 12:20:06 AM   \n",
       "1  01/01/2013 12:09:03 AM            3.0      01/01/2013 12:30:06 AM   \n",
       "2  01/01/2013 12:04:55 AM            1.0      01/01/2013 12:15:18 AM   \n",
       "3  01/01/2013 12:07:48 AM            4.0      01/01/2013 12:40:11 AM   \n",
       "4  01/01/2013 12:06:27 AM            6.0      01/01/2013 12:24:56 AM   \n",
       "\n",
       "                                  HIGHEST_LEVEL_DESC  TOTAL_INCIDENT_DURATION  \\\n",
       "0  1 - More than initial alarm, less than Signal 7-5                   1186.0   \n",
       "1  1 - More than initial alarm, less than Signal 7-5                   1769.0   \n",
       "2  1 - More than initial alarm, less than Signal 7-5                    841.0   \n",
       "3  1 - More than initial alarm, less than Signal 7-5                   2259.0   \n",
       "4  1 - More than initial alarm, less than Signal 7-5                   1387.0   \n",
       "\n",
       "                                  ACTION_TAKEN1_DESC  \\\n",
       "0                           00 - Action taken, other   \n",
       "1                                   86 - Investigate   \n",
       "2                           00 - Action taken, other   \n",
       "3  44 - Hazardous materials leak control & contai...   \n",
       "4                                   86 - Investigate   \n",
       "\n",
       "              ...             ZIP_CODE   BOROUGH_DESC FLOOR  \\\n",
       "0             ...                10454      2 - Bronx   NaN   \n",
       "1             ...                10036  1 - Manhattan   NaN   \n",
       "2             ...                11418     5 - Queens   NaN   \n",
       "3             ...                11103     5 - Queens     1   \n",
       "4             ...                11385     5 - Queens   NaN   \n",
       "\n",
       "  CO_DETECTOR_PRESENT_DESC FIRE_ORIGIN_BELOW_GRADE_FLAG  \\\n",
       "0                      NaN                          NaN   \n",
       "1                      NaN                          NaN   \n",
       "2                      NaN                          NaN   \n",
       "3                      NaN                          NaN   \n",
       "4                      NaN                          NaN   \n",
       "\n",
       "  STORY_FIRE_ORIGIN_COUNT FIRE_SPREAD_DESC DETECTOR_PRESENCE_DESC  \\\n",
       "0                     NaN              NaN                    NaN   \n",
       "1                     NaN              NaN                    NaN   \n",
       "2                     NaN              NaN                    NaN   \n",
       "3                     NaN              NaN                    NaN   \n",
       "4                     NaN              NaN                    NaN   \n",
       "\n",
       "   AES_PRESENCE_DESC  STANDPIPE_SYS_PRESENT_FLAG  \n",
       "0                NaN                         NaN  \n",
       "1                NaN                         NaN  \n",
       "2                NaN                         NaN  \n",
       "3                NaN                         NaN  \n",
       "4                NaN                         NaN  \n",
       "\n",
       "[5 rows x 24 columns]"
      ]
     },
     "execution_count": 5,
     "metadata": {},
     "output_type": "execute_result"
    }
   ],
   "source": [
    "data.head()"
   ]
  },
  {
   "cell_type": "markdown",
   "metadata": {},
   "source": [
    "#### What proportion of FDNY responses in this dataset correspond to the most common type of incident?"
   ]
  },
  {
   "cell_type": "code",
   "execution_count": 6,
   "metadata": {},
   "outputs": [
    {
     "name": "stdout",
     "output_type": "stream",
     "text": [
      "823378 2277779 0.361482830424\n"
     ]
    }
   ],
   "source": [
    "most_common_incident=data['INCIDENT_TYPE_DESC'].value_counts().max()\n",
    "fraction_mostcommonincident=most_common_incident/len(data)\n",
    "print(most_common_incident,len(data),fraction_mostcommonincident)"
   ]
  },
  {
   "cell_type": "markdown",
   "metadata": {},
   "source": [
    "#### How many times more likely is an incident in Staten Island a false call compared to in Manhattan? The answer should be the ratio of Staten Island false call rate to Manhattan false call rate. A false call is an incident for which 'INCIDENT_TYPE_DESC' is '710 - Malicious, mischievous false call, other'."
   ]
  },
  {
   "cell_type": "code",
   "execution_count": 7,
   "metadata": {},
   "outputs": [
    {
     "name": "stdout",
     "output_type": "stream",
     "text": [
      "1.6243819471953407\n"
     ]
    }
   ],
   "source": [
    "#print type of incidents\n",
    "#set(list(data['INCIDENT_TYPE_DESC']))\n",
    "#fasle_Calls_df=data[data['INCIDENT_TYPE_DESC'].str.contains('False',case=False)==True]\n",
    "\n",
    "#Staten Island false call rate\n",
    "statenisland_df=data[data['BOROUGH_DESC'].str.contains('Staten')]\n",
    "staten_falsecalls=(len(statenisland_df[statenisland_df['INCIDENT_TYPE_DESC'].str.contains('710 - Malicious, mischievous false call, other')]))\n",
    "staten_total=(len(statenisland_df))\n",
    "staten_falsecall_rate=staten_falsecalls/staten_total\n",
    "\n",
    "#Manhattan false call rate\n",
    "manhattan_df=data[data['BOROUGH_DESC'].str.contains('Manhattan')]\n",
    "manhattan_falsecalls=(len(manhattan_df[manhattan_df['INCIDENT_TYPE_DESC'].str.contains('710 - Malicious, mischievous false call, other')]))\n",
    "manhattan_total=(len(manhattan_df))\n",
    "manhattan_falsecall_rate=manhattan_falsecalls/manhattan_total\n",
    "\n",
    "print(staten_falsecall_rate/manhattan_falsecall_rate)"
   ]
  },
  {
   "cell_type": "markdown",
   "metadata": {},
   "source": [
    "#### We can use the FDNY dataset to investigate at what time of the day people cook most. Compute what proportion of all incidents are cooking fires for every hour of the day by normalizing the number of cooking fires in a given hour by the total number of incidents that occured in that hour. Find the hour of the day that has the highest proportion of cooking fires and submit that proportion of cooking fires. A cooking fire is an incident for which 'INCIDENT_TYPE_DESC' is '113 - Cooking fire, confined to container'. Note: round incident times down. For example, if an incident occured at 22:55 it occured in hour 22."
   ]
  },
  {
   "cell_type": "code",
   "execution_count": 8,
   "metadata": {
    "collapsed": true
   },
   "outputs": [],
   "source": [
    "#convert incident date-time to datetime format as a new column\n",
    "data['formatted_incident_time']=pd.to_datetime(data['INCIDENT_DATE_TIME'])"
   ]
  },
  {
   "cell_type": "code",
   "execution_count": 9,
   "metadata": {
    "collapsed": true
   },
   "outputs": [],
   "source": [
    "#add new column for just hour\n",
    "data['incident_hour']=data['formatted_incident_time'].dt.hour"
   ]
  },
  {
   "cell_type": "code",
   "execution_count": 10,
   "metadata": {},
   "outputs": [
    {
     "data": {
      "text/html": [
       "<div>\n",
       "<style>\n",
       "    .dataframe thead tr:only-child th {\n",
       "        text-align: right;\n",
       "    }\n",
       "\n",
       "    .dataframe thead th {\n",
       "        text-align: left;\n",
       "    }\n",
       "\n",
       "    .dataframe tbody tr th {\n",
       "        vertical-align: top;\n",
       "    }\n",
       "</style>\n",
       "<table border=\"1\" class=\"dataframe\">\n",
       "  <thead>\n",
       "    <tr style=\"text-align: right;\">\n",
       "      <th></th>\n",
       "      <th>IM_INCIDENT_KEY</th>\n",
       "      <th>FIRE_BOX</th>\n",
       "      <th>INCIDENT_TYPE_DESC</th>\n",
       "      <th>INCIDENT_DATE_TIME</th>\n",
       "      <th>ARRIVAL_DATE_TIME</th>\n",
       "      <th>UNITS_ONSCENE</th>\n",
       "      <th>LAST_UNIT_CLEARED_DATE_TIME</th>\n",
       "      <th>HIGHEST_LEVEL_DESC</th>\n",
       "      <th>TOTAL_INCIDENT_DURATION</th>\n",
       "      <th>ACTION_TAKEN1_DESC</th>\n",
       "      <th>...</th>\n",
       "      <th>FLOOR</th>\n",
       "      <th>CO_DETECTOR_PRESENT_DESC</th>\n",
       "      <th>FIRE_ORIGIN_BELOW_GRADE_FLAG</th>\n",
       "      <th>STORY_FIRE_ORIGIN_COUNT</th>\n",
       "      <th>FIRE_SPREAD_DESC</th>\n",
       "      <th>DETECTOR_PRESENCE_DESC</th>\n",
       "      <th>AES_PRESENCE_DESC</th>\n",
       "      <th>STANDPIPE_SYS_PRESENT_FLAG</th>\n",
       "      <th>formatted_incident_time</th>\n",
       "      <th>incident_hour</th>\n",
       "    </tr>\n",
       "  </thead>\n",
       "  <tbody>\n",
       "    <tr>\n",
       "      <th>53</th>\n",
       "      <td>55672876</td>\n",
       "      <td>1380</td>\n",
       "      <td>113 - Cooking fire, confined to container</td>\n",
       "      <td>01/01/2013 12:34:10 AM</td>\n",
       "      <td>01/01/2013 12:37:52 AM</td>\n",
       "      <td>3.0</td>\n",
       "      <td>01/01/2013 12:49:43 AM</td>\n",
       "      <td>1 - More than initial alarm, less than Signal 7-5</td>\n",
       "      <td>933.0</td>\n",
       "      <td>11 - Extinguishment by fire service personnel</td>\n",
       "      <td>...</td>\n",
       "      <td>NaN</td>\n",
       "      <td>NaN</td>\n",
       "      <td>NaN</td>\n",
       "      <td>NaN</td>\n",
       "      <td>NaN</td>\n",
       "      <td>NaN</td>\n",
       "      <td>NaN</td>\n",
       "      <td>NaN</td>\n",
       "      <td>2013-01-01 00:34:10</td>\n",
       "      <td>0</td>\n",
       "    </tr>\n",
       "    <tr>\n",
       "      <th>58</th>\n",
       "      <td>55672892</td>\n",
       "      <td>1201</td>\n",
       "      <td>113 - Cooking fire, confined to container</td>\n",
       "      <td>01/01/2013 12:38:51 AM</td>\n",
       "      <td>01/01/2013 12:42:40 AM</td>\n",
       "      <td>6.0</td>\n",
       "      <td>01/01/2013 12:57:58 AM</td>\n",
       "      <td>1 - More than initial alarm, less than Signal 7-5</td>\n",
       "      <td>1147.0</td>\n",
       "      <td>11 - Extinguishment by fire service personnel</td>\n",
       "      <td>...</td>\n",
       "      <td>NaN</td>\n",
       "      <td>NaN</td>\n",
       "      <td>NaN</td>\n",
       "      <td>NaN</td>\n",
       "      <td>NaN</td>\n",
       "      <td>NaN</td>\n",
       "      <td>NaN</td>\n",
       "      <td>NaN</td>\n",
       "      <td>2013-01-01 00:38:51</td>\n",
       "      <td>0</td>\n",
       "    </tr>\n",
       "    <tr>\n",
       "      <th>120</th>\n",
       "      <td>55673073</td>\n",
       "      <td>2538</td>\n",
       "      <td>113 - Cooking fire, confined to container</td>\n",
       "      <td>01/01/2013 01:23:26 AM</td>\n",
       "      <td>01/01/2013 01:27:05 AM</td>\n",
       "      <td>5.0</td>\n",
       "      <td>01/01/2013 01:37:33 AM</td>\n",
       "      <td>1 - More than initial alarm, less than Signal 7-5</td>\n",
       "      <td>847.0</td>\n",
       "      <td>11 - Extinguishment by fire service personnel</td>\n",
       "      <td>...</td>\n",
       "      <td>NaN</td>\n",
       "      <td>NaN</td>\n",
       "      <td>NaN</td>\n",
       "      <td>NaN</td>\n",
       "      <td>NaN</td>\n",
       "      <td>NaN</td>\n",
       "      <td>NaN</td>\n",
       "      <td>NaN</td>\n",
       "      <td>2013-01-01 01:23:26</td>\n",
       "      <td>1</td>\n",
       "    </tr>\n",
       "    <tr>\n",
       "      <th>248</th>\n",
       "      <td>55673417</td>\n",
       "      <td>688</td>\n",
       "      <td>113 - Cooking fire, confined to container</td>\n",
       "      <td>01/01/2013 03:00:44 AM</td>\n",
       "      <td>01/01/2013 03:06:52 AM</td>\n",
       "      <td>5.0</td>\n",
       "      <td>01/01/2013 03:13:50 AM</td>\n",
       "      <td>1 - More than initial alarm, less than Signal 7-5</td>\n",
       "      <td>786.0</td>\n",
       "      <td>11 - Extinguishment by fire service personnel</td>\n",
       "      <td>...</td>\n",
       "      <td>2</td>\n",
       "      <td>NaN</td>\n",
       "      <td>NaN</td>\n",
       "      <td>NaN</td>\n",
       "      <td>NaN</td>\n",
       "      <td>NaN</td>\n",
       "      <td>NaN</td>\n",
       "      <td>NaN</td>\n",
       "      <td>2013-01-01 03:00:44</td>\n",
       "      <td>3</td>\n",
       "    </tr>\n",
       "    <tr>\n",
       "      <th>329</th>\n",
       "      <td>55673603</td>\n",
       "      <td>574</td>\n",
       "      <td>113 - Cooking fire, confined to container</td>\n",
       "      <td>01/01/2013 04:16:58 AM</td>\n",
       "      <td>01/01/2013 04:20:21 AM</td>\n",
       "      <td>5.0</td>\n",
       "      <td>01/01/2013 04:34:42 AM</td>\n",
       "      <td>1 - More than initial alarm, less than Signal 7-5</td>\n",
       "      <td>1064.0</td>\n",
       "      <td>11 - Extinguishment by fire service personnel</td>\n",
       "      <td>...</td>\n",
       "      <td>NaN</td>\n",
       "      <td>NaN</td>\n",
       "      <td>NaN</td>\n",
       "      <td>NaN</td>\n",
       "      <td>NaN</td>\n",
       "      <td>NaN</td>\n",
       "      <td>NaN</td>\n",
       "      <td>NaN</td>\n",
       "      <td>2013-01-01 04:16:58</td>\n",
       "      <td>4</td>\n",
       "    </tr>\n",
       "  </tbody>\n",
       "</table>\n",
       "<p>5 rows × 26 columns</p>\n",
       "</div>"
      ],
      "text/plain": [
       "     IM_INCIDENT_KEY FIRE_BOX                         INCIDENT_TYPE_DESC  \\\n",
       "53          55672876     1380  113 - Cooking fire, confined to container   \n",
       "58          55672892     1201  113 - Cooking fire, confined to container   \n",
       "120         55673073     2538  113 - Cooking fire, confined to container   \n",
       "248         55673417      688  113 - Cooking fire, confined to container   \n",
       "329         55673603      574  113 - Cooking fire, confined to container   \n",
       "\n",
       "         INCIDENT_DATE_TIME       ARRIVAL_DATE_TIME  UNITS_ONSCENE  \\\n",
       "53   01/01/2013 12:34:10 AM  01/01/2013 12:37:52 AM            3.0   \n",
       "58   01/01/2013 12:38:51 AM  01/01/2013 12:42:40 AM            6.0   \n",
       "120  01/01/2013 01:23:26 AM  01/01/2013 01:27:05 AM            5.0   \n",
       "248  01/01/2013 03:00:44 AM  01/01/2013 03:06:52 AM            5.0   \n",
       "329  01/01/2013 04:16:58 AM  01/01/2013 04:20:21 AM            5.0   \n",
       "\n",
       "    LAST_UNIT_CLEARED_DATE_TIME  \\\n",
       "53       01/01/2013 12:49:43 AM   \n",
       "58       01/01/2013 12:57:58 AM   \n",
       "120      01/01/2013 01:37:33 AM   \n",
       "248      01/01/2013 03:13:50 AM   \n",
       "329      01/01/2013 04:34:42 AM   \n",
       "\n",
       "                                    HIGHEST_LEVEL_DESC  \\\n",
       "53   1 - More than initial alarm, less than Signal 7-5   \n",
       "58   1 - More than initial alarm, less than Signal 7-5   \n",
       "120  1 - More than initial alarm, less than Signal 7-5   \n",
       "248  1 - More than initial alarm, less than Signal 7-5   \n",
       "329  1 - More than initial alarm, less than Signal 7-5   \n",
       "\n",
       "     TOTAL_INCIDENT_DURATION                             ACTION_TAKEN1_DESC  \\\n",
       "53                     933.0  11 - Extinguishment by fire service personnel   \n",
       "58                    1147.0  11 - Extinguishment by fire service personnel   \n",
       "120                    847.0  11 - Extinguishment by fire service personnel   \n",
       "248                    786.0  11 - Extinguishment by fire service personnel   \n",
       "329                   1064.0  11 - Extinguishment by fire service personnel   \n",
       "\n",
       "         ...       FLOOR CO_DETECTOR_PRESENT_DESC  \\\n",
       "53       ...         NaN                      NaN   \n",
       "58       ...         NaN                      NaN   \n",
       "120      ...         NaN                      NaN   \n",
       "248      ...           2                      NaN   \n",
       "329      ...         NaN                      NaN   \n",
       "\n",
       "    FIRE_ORIGIN_BELOW_GRADE_FLAG STORY_FIRE_ORIGIN_COUNT FIRE_SPREAD_DESC  \\\n",
       "53                           NaN                     NaN              NaN   \n",
       "58                           NaN                     NaN              NaN   \n",
       "120                          NaN                     NaN              NaN   \n",
       "248                          NaN                     NaN              NaN   \n",
       "329                          NaN                     NaN              NaN   \n",
       "\n",
       "    DETECTOR_PRESENCE_DESC AES_PRESENCE_DESC STANDPIPE_SYS_PRESENT_FLAG  \\\n",
       "53                     NaN               NaN                        NaN   \n",
       "58                     NaN               NaN                        NaN   \n",
       "120                    NaN               NaN                        NaN   \n",
       "248                    NaN               NaN                        NaN   \n",
       "329                    NaN               NaN                        NaN   \n",
       "\n",
       "     formatted_incident_time  incident_hour  \n",
       "53       2013-01-01 00:34:10              0  \n",
       "58       2013-01-01 00:38:51              0  \n",
       "120      2013-01-01 01:23:26              1  \n",
       "248      2013-01-01 03:00:44              3  \n",
       "329      2013-01-01 04:16:58              4  \n",
       "\n",
       "[5 rows x 26 columns]"
      ]
     },
     "execution_count": 10,
     "metadata": {},
     "output_type": "execute_result"
    }
   ],
   "source": [
    "cookingfire_df=data[data['INCIDENT_TYPE_DESC'].str.contains('113 - Cooking fire, confined to container',case=False)==True]\n",
    "cookingfire_df.head()"
   ]
  },
  {
   "cell_type": "code",
   "execution_count": 11,
   "metadata": {},
   "outputs": [
    {
     "name": "stdout",
     "output_type": "stream",
     "text": [
      "0.0503179947624 2\n"
     ]
    }
   ],
   "source": [
    "total_incident_hourly_list=np.array(data['incident_hour'].value_counts())\n",
    "cooking_incident_hourly_list=np.array(cookingfire_df['incident_hour'].value_counts())\n",
    "ratio=(cooking_incident_hourly_list/total_incident_hourly_list)\n",
    "\n",
    "#lets find the proportion of total incidents which were cooking fire related\n",
    "max_proportion=max(ratio)\n",
    "hour_of_day_with_max_cooking=list(ratio).index(max_proportion)\n",
    "print(max_proportion,hour_of_day_with_max_cooking)\n",
    "\n",
    "#probably fell asleep?"
   ]
  },
  {
   "cell_type": "code",
   "execution_count": 139,
   "metadata": {
    "collapsed": true
   },
   "outputs": [],
   "source": [
    "cooking_incident_hourly_list=np.array(cookingfire_df['incident_hour'].value_counts())\n"
   ]
  },
  {
   "cell_type": "code",
   "execution_count": 13,
   "metadata": {},
   "outputs": [
    {
     "name": "stderr",
     "output_type": "stream",
     "text": [
      "C:\\Users\\Sangy\\Anaconda3\\lib\\site-packages\\matplotlib\\axes\\_axes.py:545: UserWarning: No labelled objects found. Use label='...' kwarg on individual plots.\n",
      "  warnings.warn(\"No labelled objects found. \"\n"
     ]
    },
    {
     "data": {
      "image/png": "[encoded data removed]",
      "text/plain": [
       "<matplotlib.figure.Figure at 0x24290ca7cc0>"
      ]
     },
     "metadata": {},
     "output_type": "display_data"
    }
   ],
   "source": [
    "plt.figure(figsize=(15,5))\n",
    "plt.subplot(121)\n",
    "plt.scatter(range(len(ratio)),ratio)\n",
    "plt.xlabel('Hour of day')\n",
    "plt.ylabel('Ratio of cooking to total incidents')\n",
    "plt.legend()\n",
    "plt.subplot(122)\n",
    "plt.plot(range(len(total_incident_hourly_list)),total_incident_hourly_list,'o',label='total')\n",
    "plt.plot(range(len(cooking_incident_hourly_list)),cooking_incident_hourly_list,'x',label='cooking')\n",
    "plt.xlabel('Hour of day')\n",
    "plt.ylabel('No of incidents')\n",
    "plt.legend()\n",
    "plt.show()"
   ]
  },
  {
   "cell_type": "markdown",
   "metadata": {},
   "source": [
    "#### For this question, only consider incidents that have information about whether a CO detector was present or not. We are interested in how many times more likely it is that an incident is long when CO detector is absent compared to when a CO detector is present. For events with CO detector and for those without one, compute the proportion of incidents that lasted 20-30, 30-40, 40-50, 50-60, and 60-70 minutes (both interval boundary values included) by dividing the number of incidents in each time interval with the total number of incidents. For each bin, compute the ratio of the 'CO detector absent' frequency to the 'CO detector present' frequency. Perform a linear regression of this ratio to the mid-point of the bins. From this, what is the predicted ratio for events lasting 39 minutes?"
   ]
  },
  {
   "cell_type": "code",
   "execution_count": 70,
   "metadata": {},
   "outputs": [
    {
     "name": "stderr",
     "output_type": "stream",
     "text": [
      "C:\\Users\\Sangy\\Anaconda3\\lib\\site-packages\\ipykernel\\__main__.py:4: SettingWithCopyWarning: \n",
      "A value is trying to be set on a copy of a slice from a DataFrame\n",
      "\n",
      "See the caveats in the documentation: http://pandas.pydata.org/pandas-docs/stable/indexing.html#indexing-view-versus-copy\n"
     ]
    },
    {
     "data": {
      "text/plain": [
       "Yes    24031\n",
       "No      5644\n",
       "Name: CO_DETECTOR_PRESENT_DESC, dtype: int64"
      ]
     },
     "execution_count": 70,
     "metadata": {},
     "output_type": "execute_result"
    }
   ],
   "source": [
    "#make smaller dataframe with only the relevant columns\n",
    "#COdetector_data=data['CO_DETECTOR_PRESENT_DESC'].dropna(how='all')\n",
    "COdetector_data=data[['INCIDENT_TYPE_DESC','TOTAL_INCIDENT_DURATION','CO_DETECTOR_PRESENT_DESC']]\n",
    "COdetector_data.dropna(inplace=True)\n",
    "COdetector_data['CO_DETECTOR_PRESENT_DESC'].value_counts()"
   ]
  },
  {
   "cell_type": "code",
   "execution_count": 72,
   "metadata": {},
   "outputs": [
    {
     "data": {
      "text/plain": [
       "29675"
      ]
     },
     "execution_count": 72,
     "metadata": {},
     "output_type": "execute_result"
    }
   ],
   "source": [
    "len(COdetector_data)"
   ]
  },
  {
   "cell_type": "code",
   "execution_count": 93,
   "metadata": {},
   "outputs": [
    {
     "name": "stdout",
     "output_type": "stream",
     "text": [
      "24031 5644 29675\n"
     ]
    }
   ],
   "source": [
    "#more events when CO detector is present comapred to absent\n",
    "CO_present_df=COdetector_data[COdetector_data['CO_DETECTOR_PRESENT_DESC']=='Yes']\n",
    "CO_absent_df=COdetector_data[COdetector_data['CO_DETECTOR_PRESENT_DESC']=='No']\n",
    "print(len(CO_present_df),len(CO_absent_df),len(COdetector_data))"
   ]
  },
  {
   "cell_type": "code",
   "execution_count": 92,
   "metadata": {},
   "outputs": [
    {
     "name": "stdout",
     "output_type": "stream",
     "text": [
      "CO present durations (minutes) TOTAL_INCIDENT_DURATION\n",
      "(19.999, 30.0]    6501\n",
      "(30.0, 40.0]      2145\n",
      "(40.0, 50.0]       923\n",
      "(50.0, 60.0]       481\n",
      "(60.0, 70.0]       235\n",
      "dtype: int64\n",
      "CO absent durations (minutes) TOTAL_INCIDENT_DURATION\n",
      "(19.999, 30.0]    1181\n",
      "(30.0, 40.0]       586\n",
      "(40.0, 50.0]       348\n",
      "(50.0, 60.0]       249\n",
      "(60.0, 70.0]       158\n",
      "dtype: int64\n"
     ]
    }
   ],
   "source": [
    "bins = [20, 30, 40, 50, 60,70]\n",
    "CO_present_bins = CO_present_df.groupby([pd.cut(CO_present_df.TOTAL_INCIDENT_DURATION/60, bins, right=True, include_lowest=True)])\n",
    "CO_absent_bins = CO_absent_df.groupby([pd.cut(CO_absent_df.TOTAL_INCIDENT_DURATION/60, bins, right=True, include_lowest=True)])\n",
    "print(\"CO present durations (minutes)\",CO_present_bins.size())\n",
    "print(\"CO absent durations (minutes)\",CO_absent_bins.size())"
   ]
  },
  {
   "cell_type": "code",
   "execution_count": 96,
   "metadata": {},
   "outputs": [
    {
     "name": "stdout",
     "output_type": "stream",
     "text": [
      "[ 0.27052557  0.08925971  0.03840872  0.02001581  0.00977904]\n",
      "[ 0.20924876  0.10382707  0.0616584   0.04411765  0.02799433]\n",
      "ratio of the CO detector absent frequency to the CO detector present frequency:  [ 0.77348976  1.16320205  1.60532283  2.20413966  2.8626883 ]\n"
     ]
    }
   ],
   "source": [
    "#we have to normalize the frequency to total incidents with and withough CO detector to enable a comparison\n",
    "CO_present_freq=np.array(CO_present_bins.size()[:])/len(CO_present_df)\n",
    "CO_absent_freq=np.array(CO_absent_bins.size()[:])/len(CO_absent_df)\n",
    "print(CO_present_freq)\n",
    "print(CO_absent_freq)\n",
    "print('ratio of the ''CO detector absent'' frequency to the ''CO detector present'' frequency: ',CO_absent_freq/CO_present_freq)"
   ]
  },
  {
   "cell_type": "code",
   "execution_count": 97,
   "metadata": {},
   "outputs": [
    {
     "data": {
      "image/png": "[encoded data removed]",
      "text/plain": [
       "<matplotlib.figure.Figure at 0x24292e45898>"
      ]
     },
     "metadata": {},
     "output_type": "display_data"
    }
   ],
   "source": [
    "#incidents are longer when CO is present compared to when CO is absent\n",
    "X=np.array([25,35,45,55,65])\n",
    "y=CO_absent_freq/CO_present_freq\n",
    "plt.plot(X,y,'x')\n",
    "plt.show()"
   ]
  },
  {
   "cell_type": "code",
   "execution_count": 99,
   "metadata": {},
   "outputs": [
    {
     "name": "stdout",
     "output_type": "stream",
     "text": [
      "0.987306644102 -0.626932090334\n"
     ]
    },
    {
     "data": {
      "text/plain": [
       "array([ 1.40860844])"
      ]
     },
     "execution_count": 99,
     "metadata": {},
     "output_type": "execute_result"
    }
   ],
   "source": [
    "X=X.reshape(-1, 1)\n",
    "reg = linear_model.LinearRegression().fit(X, y)\n",
    "print(reg.score(X, y),reg.intercept_) \n",
    "reg.predict(np.array([[39]]))"
   ]
  },
  {
   "cell_type": "markdown",
   "metadata": {},
   "source": [
    "#### What is the ratio of the average number of units that arrive to a scene of an incident classified as '111 - Building fire' to the number that arrive for '651 - Smoke scare, odor of smoke'?"
   ]
  },
  {
   "cell_type": "code",
   "execution_count": 19,
   "metadata": {},
   "outputs": [
    {
     "name": "stdout",
     "output_type": "stream",
     "text": [
      "2.7597595139775324\n"
     ]
    }
   ],
   "source": [
    "buildingfire_df=data[data['INCIDENT_TYPE_DESC'].str.contains('111 - Building fire')]\n",
    "smokescare_df=data[data['INCIDENT_TYPE_DESC'].str.contains('651 - Smoke scare')]\n",
    "\n",
    "bldgfire_units=buildingfire_df['UNITS_ONSCENE'].mean()\n",
    "smokescare_units=smokescare_df['UNITS_ONSCENE'].mean()\n",
    "\n",
    "print(bldgfire_units/smokescare_units)"
   ]
  },
  {
   "cell_type": "markdown",
   "metadata": {},
   "source": [
    "#### Check the distribution of the number of minutes it takes between the time a '111 - Building fire' incident has been logged into the Computer Aided Dispatch system and the time at which the first unit arrives on scene. What is the third quartile of that distribution. Note: the number of minutes can be fractional (ie, do not round)."
   ]
  },
  {
   "cell_type": "code",
   "execution_count": 20,
   "metadata": {},
   "outputs": [
    {
     "name": "stderr",
     "output_type": "stream",
     "text": [
      "C:\\Users\\Sangy\\Anaconda3\\lib\\site-packages\\ipykernel\\__main__.py:1: SettingWithCopyWarning: \n",
      "A value is trying to be set on a copy of a slice from a DataFrame.\n",
      "Try using .loc[row_indexer,col_indexer] = value instead\n",
      "\n",
      "See the caveats in the documentation: http://pandas.pydata.org/pandas-docs/stable/indexing.html#indexing-view-versus-copy\n",
      "  if __name__ == '__main__':\n",
      "C:\\Users\\Sangy\\Anaconda3\\lib\\site-packages\\ipykernel\\__main__.py:2: SettingWithCopyWarning: \n",
      "A value is trying to be set on a copy of a slice from a DataFrame.\n",
      "Try using .loc[row_indexer,col_indexer] = value instead\n",
      "\n",
      "See the caveats in the documentation: http://pandas.pydata.org/pandas-docs/stable/indexing.html#indexing-view-versus-copy\n",
      "  from ipykernel import kernelapp as app\n"
     ]
    }
   ],
   "source": [
    "buildingfire_df['formatted_arrival_time']=pd.to_datetime(buildingfire_df['ARRIVAL_DATE_TIME'])\n",
    "buildingfire_df['formatted_incident_time']=pd.to_datetime(buildingfire_df['INCIDENT_DATE_TIME'])\n"
   ]
  },
  {
   "cell_type": "code",
   "execution_count": 21,
   "metadata": {},
   "outputs": [
    {
     "name": "stderr",
     "output_type": "stream",
     "text": [
      "C:\\Users\\Sangy\\Anaconda3\\lib\\site-packages\\ipykernel\\__main__.py:1: SettingWithCopyWarning: \n",
      "A value is trying to be set on a copy of a slice from a DataFrame.\n",
      "Try using .loc[row_indexer,col_indexer] = value instead\n",
      "\n",
      "See the caveats in the documentation: http://pandas.pydata.org/pandas-docs/stable/indexing.html#indexing-view-versus-copy\n",
      "  if __name__ == '__main__':\n"
     ]
    }
   ],
   "source": [
    "buildingfire_df['time_to_arrive']=buildingfire_df['formatted_arrival_time']-buildingfire_df['formatted_incident_time']"
   ]
  },
  {
   "cell_type": "code",
   "execution_count": 22,
   "metadata": {},
   "outputs": [
    {
     "name": "stderr",
     "output_type": "stream",
     "text": [
      "C:\\Users\\Sangy\\Anaconda3\\lib\\site-packages\\ipykernel\\__main__.py:1: SettingWithCopyWarning: \n",
      "A value is trying to be set on a copy of a slice from a DataFrame.\n",
      "Try using .loc[row_indexer,col_indexer] = value instead\n",
      "\n",
      "See the caveats in the documentation: http://pandas.pydata.org/pandas-docs/stable/indexing.html#indexing-view-versus-copy\n",
      "  if __name__ == '__main__':\n"
     ]
    },
    {
     "data": {
      "text/html": [
       "<div>\n",
       "<style>\n",
       "    .dataframe thead tr:only-child th {\n",
       "        text-align: right;\n",
       "    }\n",
       "\n",
       "    .dataframe thead th {\n",
       "        text-align: left;\n",
       "    }\n",
       "\n",
       "    .dataframe tbody tr th {\n",
       "        vertical-align: top;\n",
       "    }\n",
       "</style>\n",
       "<table border=\"1\" class=\"dataframe\">\n",
       "  <thead>\n",
       "    <tr style=\"text-align: right;\">\n",
       "      <th></th>\n",
       "      <th>IM_INCIDENT_KEY</th>\n",
       "      <th>FIRE_BOX</th>\n",
       "      <th>INCIDENT_TYPE_DESC</th>\n",
       "      <th>INCIDENT_DATE_TIME</th>\n",
       "      <th>ARRIVAL_DATE_TIME</th>\n",
       "      <th>UNITS_ONSCENE</th>\n",
       "      <th>LAST_UNIT_CLEARED_DATE_TIME</th>\n",
       "      <th>HIGHEST_LEVEL_DESC</th>\n",
       "      <th>TOTAL_INCIDENT_DURATION</th>\n",
       "      <th>ACTION_TAKEN1_DESC</th>\n",
       "      <th>...</th>\n",
       "      <th>FIRE_ORIGIN_BELOW_GRADE_FLAG</th>\n",
       "      <th>STORY_FIRE_ORIGIN_COUNT</th>\n",
       "      <th>FIRE_SPREAD_DESC</th>\n",
       "      <th>DETECTOR_PRESENCE_DESC</th>\n",
       "      <th>AES_PRESENCE_DESC</th>\n",
       "      <th>STANDPIPE_SYS_PRESENT_FLAG</th>\n",
       "      <th>formatted_incident_time</th>\n",
       "      <th>incident_hour</th>\n",
       "      <th>formatted_arrival_time</th>\n",
       "      <th>time_to_arrive</th>\n",
       "    </tr>\n",
       "  </thead>\n",
       "  <tbody>\n",
       "    <tr>\n",
       "      <th>90</th>\n",
       "      <td>55672965</td>\n",
       "      <td>2595</td>\n",
       "      <td>111 - Building fire</td>\n",
       "      <td>01/01/2013 12:58:10 AM</td>\n",
       "      <td>01/01/2013 01:00:50 AM</td>\n",
       "      <td>15.0</td>\n",
       "      <td>01/01/2013 04:15:20 AM</td>\n",
       "      <td>7 - Signal 7-5</td>\n",
       "      <td>11830.0</td>\n",
       "      <td>11 - Extinguishment by fire service personnel</td>\n",
       "      <td>...</td>\n",
       "      <td>NaN</td>\n",
       "      <td>1.0</td>\n",
       "      <td>5 - Beyond building of origin</td>\n",
       "      <td>N - None present</td>\n",
       "      <td>N - None Present</td>\n",
       "      <td>0.0</td>\n",
       "      <td>2013-01-01 00:58:10</td>\n",
       "      <td>0</td>\n",
       "      <td>2013-01-01 01:00:50</td>\n",
       "      <td>160.0</td>\n",
       "    </tr>\n",
       "    <tr>\n",
       "      <th>198</th>\n",
       "      <td>55673299</td>\n",
       "      <td>2591</td>\n",
       "      <td>111 - Building fire</td>\n",
       "      <td>01/01/2013 02:22:56 AM</td>\n",
       "      <td>01/01/2013 02:25:23 AM</td>\n",
       "      <td>9.0</td>\n",
       "      <td>01/01/2013 07:29:44 AM</td>\n",
       "      <td>7 - Signal 7-5</td>\n",
       "      <td>18408.0</td>\n",
       "      <td>11 - Extinguishment by fire service personnel</td>\n",
       "      <td>...</td>\n",
       "      <td>NaN</td>\n",
       "      <td>4.0</td>\n",
       "      <td>3 - Confined to floor of origin</td>\n",
       "      <td>N - None present</td>\n",
       "      <td>N - None Present</td>\n",
       "      <td>0.0</td>\n",
       "      <td>2013-01-01 02:22:56</td>\n",
       "      <td>2</td>\n",
       "      <td>2013-01-01 02:25:23</td>\n",
       "      <td>147.0</td>\n",
       "    </tr>\n",
       "    <tr>\n",
       "      <th>439</th>\n",
       "      <td>55673870</td>\n",
       "      <td>1601</td>\n",
       "      <td>111 - Building fire</td>\n",
       "      <td>01/01/2013 06:20:49 AM</td>\n",
       "      <td>01/01/2013 06:26:13 AM</td>\n",
       "      <td>23.0</td>\n",
       "      <td>01/01/2013 10:32:28 AM</td>\n",
       "      <td>2 - 2nd alarm</td>\n",
       "      <td>15099.0</td>\n",
       "      <td>11 - Extinguishment by fire service personnel</td>\n",
       "      <td>...</td>\n",
       "      <td>NaN</td>\n",
       "      <td>6.0</td>\n",
       "      <td>4 - Confined to building of origin</td>\n",
       "      <td>N - None present</td>\n",
       "      <td>N - None Present</td>\n",
       "      <td>0.0</td>\n",
       "      <td>2013-01-01 06:20:49</td>\n",
       "      <td>6</td>\n",
       "      <td>2013-01-01 06:26:13</td>\n",
       "      <td>324.0</td>\n",
       "    </tr>\n",
       "    <tr>\n",
       "      <th>491</th>\n",
       "      <td>55674012</td>\n",
       "      <td>7973</td>\n",
       "      <td>111 - Building fire</td>\n",
       "      <td>01/01/2013 07:59:48 AM</td>\n",
       "      <td>01/01/2013 08:03:33 AM</td>\n",
       "      <td>6.0</td>\n",
       "      <td>01/01/2013 08:19:37 AM</td>\n",
       "      <td>1 - More than initial alarm, less than Signal 7-5</td>\n",
       "      <td>1189.0</td>\n",
       "      <td>11 - Extinguishment by fire service personnel</td>\n",
       "      <td>...</td>\n",
       "      <td>NaN</td>\n",
       "      <td>3.0</td>\n",
       "      <td>1 - Confined to object of origin</td>\n",
       "      <td>N - None present</td>\n",
       "      <td>N - None Present</td>\n",
       "      <td>0.0</td>\n",
       "      <td>2013-01-01 07:59:48</td>\n",
       "      <td>7</td>\n",
       "      <td>2013-01-01 08:03:33</td>\n",
       "      <td>225.0</td>\n",
       "    </tr>\n",
       "    <tr>\n",
       "      <th>568</th>\n",
       "      <td>55674170</td>\n",
       "      <td>1726</td>\n",
       "      <td>111 - Building fire</td>\n",
       "      <td>01/01/2013 09:47:27 AM</td>\n",
       "      <td>01/01/2013 09:49:25 AM</td>\n",
       "      <td>13.0</td>\n",
       "      <td>01/01/2013 11:11:42 AM</td>\n",
       "      <td>7 - Signal 7-5</td>\n",
       "      <td>5055.0</td>\n",
       "      <td>11 - Extinguishment by fire service personnel</td>\n",
       "      <td>...</td>\n",
       "      <td>NaN</td>\n",
       "      <td>5.0</td>\n",
       "      <td>2 - Confined to room of origin</td>\n",
       "      <td>N - None present</td>\n",
       "      <td>N - None Present</td>\n",
       "      <td>0.0</td>\n",
       "      <td>2013-01-01 09:47:27</td>\n",
       "      <td>9</td>\n",
       "      <td>2013-01-01 09:49:25</td>\n",
       "      <td>118.0</td>\n",
       "    </tr>\n",
       "  </tbody>\n",
       "</table>\n",
       "<p>5 rows × 28 columns</p>\n",
       "</div>"
      ],
      "text/plain": [
       "     IM_INCIDENT_KEY FIRE_BOX   INCIDENT_TYPE_DESC      INCIDENT_DATE_TIME  \\\n",
       "90          55672965     2595  111 - Building fire  01/01/2013 12:58:10 AM   \n",
       "198         55673299     2591  111 - Building fire  01/01/2013 02:22:56 AM   \n",
       "439         55673870     1601  111 - Building fire  01/01/2013 06:20:49 AM   \n",
       "491         55674012     7973  111 - Building fire  01/01/2013 07:59:48 AM   \n",
       "568         55674170     1726  111 - Building fire  01/01/2013 09:47:27 AM   \n",
       "\n",
       "          ARRIVAL_DATE_TIME  UNITS_ONSCENE LAST_UNIT_CLEARED_DATE_TIME  \\\n",
       "90   01/01/2013 01:00:50 AM           15.0      01/01/2013 04:15:20 AM   \n",
       "198  01/01/2013 02:25:23 AM            9.0      01/01/2013 07:29:44 AM   \n",
       "439  01/01/2013 06:26:13 AM           23.0      01/01/2013 10:32:28 AM   \n",
       "491  01/01/2013 08:03:33 AM            6.0      01/01/2013 08:19:37 AM   \n",
       "568  01/01/2013 09:49:25 AM           13.0      01/01/2013 11:11:42 AM   \n",
       "\n",
       "                                    HIGHEST_LEVEL_DESC  \\\n",
       "90                                      7 - Signal 7-5   \n",
       "198                                     7 - Signal 7-5   \n",
       "439                                      2 - 2nd alarm   \n",
       "491  1 - More than initial alarm, less than Signal 7-5   \n",
       "568                                     7 - Signal 7-5   \n",
       "\n",
       "     TOTAL_INCIDENT_DURATION                             ACTION_TAKEN1_DESC  \\\n",
       "90                   11830.0  11 - Extinguishment by fire service personnel   \n",
       "198                  18408.0  11 - Extinguishment by fire service personnel   \n",
       "439                  15099.0  11 - Extinguishment by fire service personnel   \n",
       "491                   1189.0  11 - Extinguishment by fire service personnel   \n",
       "568                   5055.0  11 - Extinguishment by fire service personnel   \n",
       "\n",
       "          ...       FIRE_ORIGIN_BELOW_GRADE_FLAG STORY_FIRE_ORIGIN_COUNT  \\\n",
       "90        ...                                NaN                     1.0   \n",
       "198       ...                                NaN                     4.0   \n",
       "439       ...                                NaN                     6.0   \n",
       "491       ...                                NaN                     3.0   \n",
       "568       ...                                NaN                     5.0   \n",
       "\n",
       "                       FIRE_SPREAD_DESC DETECTOR_PRESENCE_DESC  \\\n",
       "90        5 - Beyond building of origin       N - None present   \n",
       "198     3 - Confined to floor of origin       N - None present   \n",
       "439  4 - Confined to building of origin       N - None present   \n",
       "491    1 - Confined to object of origin       N - None present   \n",
       "568      2 - Confined to room of origin       N - None present   \n",
       "\n",
       "    AES_PRESENCE_DESC STANDPIPE_SYS_PRESENT_FLAG formatted_incident_time  \\\n",
       "90   N - None Present                        0.0     2013-01-01 00:58:10   \n",
       "198  N - None Present                        0.0     2013-01-01 02:22:56   \n",
       "439  N - None Present                        0.0     2013-01-01 06:20:49   \n",
       "491  N - None Present                        0.0     2013-01-01 07:59:48   \n",
       "568  N - None Present                        0.0     2013-01-01 09:47:27   \n",
       "\n",
       "    incident_hour  formatted_arrival_time  time_to_arrive  \n",
       "90              0     2013-01-01 01:00:50           160.0  \n",
       "198             2     2013-01-01 02:25:23           147.0  \n",
       "439             6     2013-01-01 06:26:13           324.0  \n",
       "491             7     2013-01-01 08:03:33           225.0  \n",
       "568             9     2013-01-01 09:49:25           118.0  \n",
       "\n",
       "[5 rows x 28 columns]"
      ]
     },
     "execution_count": 22,
     "metadata": {},
     "output_type": "execute_result"
    }
   ],
   "source": [
    "buildingfire_df['time_to_arrive']=buildingfire_df['time_to_arrive'].dt.total_seconds()\n",
    "buildingfire_df.head()"
   ]
  },
  {
   "cell_type": "code",
   "execution_count": 23,
   "metadata": {},
   "outputs": [
    {
     "name": "stdout",
     "output_type": "stream",
     "text": [
      "249.00000000000003\n"
     ]
    }
   ],
   "source": [
    "third_quartile=buildingfire_df['time_to_arrive'].quantile(.75)#, axis=0, numeric_only=False, interpolation='linear')\n",
    "print(third_quartile)"
   ]
  },
  {
   "cell_type": "markdown",
   "metadata": {},
   "source": [
    "#### What is the coefficient of determination (R squared) between the number of residents at each zip code and the number of inicidents whose type is classified as '111 - Building fire' at each of those zip codes. Note: The 2010 US Census population by zip code dataset should be downloaded from here. You will need to use both the FDNY responses and the US Census dataset. Ignore zip codes that do not appear in the census table."
   ]
  },
  {
   "cell_type": "code",
   "execution_count": 24,
   "metadata": {},
   "outputs": [
    {
     "data": {
      "text/html": [
       "<div>\n",
       "<style>\n",
       "    .dataframe thead tr:only-child th {\n",
       "        text-align: right;\n",
       "    }\n",
       "\n",
       "    .dataframe thead th {\n",
       "        text-align: left;\n",
       "    }\n",
       "\n",
       "    .dataframe tbody tr th {\n",
       "        vertical-align: top;\n",
       "    }\n",
       "</style>\n",
       "<table border=\"1\" class=\"dataframe\">\n",
       "  <thead>\n",
       "    <tr style=\"text-align: right;\">\n",
       "      <th></th>\n",
       "      <th>2010 Census Population</th>\n",
       "    </tr>\n",
       "    <tr>\n",
       "      <th>Zip Code ZCTA</th>\n",
       "      <th></th>\n",
       "    </tr>\n",
       "  </thead>\n",
       "  <tbody>\n",
       "    <tr>\n",
       "      <th>1001</th>\n",
       "      <td>16769</td>\n",
       "    </tr>\n",
       "    <tr>\n",
       "      <th>1002</th>\n",
       "      <td>29049</td>\n",
       "    </tr>\n",
       "    <tr>\n",
       "      <th>1003</th>\n",
       "      <td>10372</td>\n",
       "    </tr>\n",
       "    <tr>\n",
       "      <th>1005</th>\n",
       "      <td>5079</td>\n",
       "    </tr>\n",
       "    <tr>\n",
       "      <th>1007</th>\n",
       "      <td>14649</td>\n",
       "    </tr>\n",
       "  </tbody>\n",
       "</table>\n",
       "</div>"
      ],
      "text/plain": [
       "               2010 Census Population\n",
       "Zip Code ZCTA                        \n",
       "1001                            16769\n",
       "1002                            29049\n",
       "1003                            10372\n",
       "1005                             5079\n",
       "1007                            14649"
      ]
     },
     "execution_count": 24,
     "metadata": {},
     "output_type": "execute_result"
    }
   ],
   "source": [
    "census_data=pd.read_csv('2010+Census+Population+By+Zipcode+(ZCTA).csv')\n",
    "census_data.set_index('Zip Code ZCTA',inplace=True)\n",
    "census_data.head()"
   ]
  },
  {
   "cell_type": "code",
   "execution_count": 25,
   "metadata": {},
   "outputs": [
    {
     "name": "stderr",
     "output_type": "stream",
     "text": [
      "C:\\Users\\Sangy\\Anaconda3\\lib\\site-packages\\ipykernel\\__main__.py:1: SettingWithCopyWarning: \n",
      "A value is trying to be set on a copy of a slice from a DataFrame.\n",
      "Try using .loc[row_indexer,col_indexer] = value instead\n",
      "\n",
      "See the caveats in the documentation: http://pandas.pydata.org/pandas-docs/stable/indexing.html#indexing-view-versus-copy\n",
      "  if __name__ == '__main__':\n"
     ]
    },
    {
     "data": {
      "text/html": [
       "<div>\n",
       "<style>\n",
       "    .dataframe thead tr:only-child th {\n",
       "        text-align: right;\n",
       "    }\n",
       "\n",
       "    .dataframe thead th {\n",
       "        text-align: left;\n",
       "    }\n",
       "\n",
       "    .dataframe tbody tr th {\n",
       "        vertical-align: top;\n",
       "    }\n",
       "</style>\n",
       "<table border=\"1\" class=\"dataframe\">\n",
       "  <thead>\n",
       "    <tr style=\"text-align: right;\">\n",
       "      <th></th>\n",
       "      <th>no_incidents</th>\n",
       "    </tr>\n",
       "  </thead>\n",
       "  <tbody>\n",
       "    <tr>\n",
       "      <th>11207</th>\n",
       "      <td>218</td>\n",
       "    </tr>\n",
       "    <tr>\n",
       "      <th>10456</th>\n",
       "      <td>204</td>\n",
       "    </tr>\n",
       "    <tr>\n",
       "      <th>11208</th>\n",
       "      <td>203</td>\n",
       "    </tr>\n",
       "    <tr>\n",
       "      <th>11221</th>\n",
       "      <td>199</td>\n",
       "    </tr>\n",
       "    <tr>\n",
       "      <th>11212</th>\n",
       "      <td>186</td>\n",
       "    </tr>\n",
       "  </tbody>\n",
       "</table>\n",
       "</div>"
      ],
      "text/plain": [
       "       no_incidents\n",
       "11207           218\n",
       "10456           204\n",
       "11208           203\n",
       "11221           199\n",
       "11212           186"
      ]
     },
     "execution_count": 25,
     "metadata": {},
     "output_type": "execute_result"
    }
   ],
   "source": [
    "buildingfire_df['ZIP_CODE']=pd.to_numeric(buildingfire_df['ZIP_CODE'],downcast='integer')\n",
    "zipcode_incidents=pd.DataFrame(buildingfire_df['ZIP_CODE'].value_counts())\n",
    "zipcode_incidents.rename(columns={'ZIP_CODE':'no_incidents'},inplace=True)\n",
    "zipcode_incidents.head()"
   ]
  },
  {
   "cell_type": "code",
   "execution_count": 26,
   "metadata": {},
   "outputs": [
    {
     "data": {
      "text/html": [
       "<div>\n",
       "<style>\n",
       "    .dataframe thead tr:only-child th {\n",
       "        text-align: right;\n",
       "    }\n",
       "\n",
       "    .dataframe thead th {\n",
       "        text-align: left;\n",
       "    }\n",
       "\n",
       "    .dataframe tbody tr th {\n",
       "        vertical-align: top;\n",
       "    }\n",
       "</style>\n",
       "<table border=\"1\" class=\"dataframe\">\n",
       "  <thead>\n",
       "    <tr style=\"text-align: right;\">\n",
       "      <th></th>\n",
       "      <th>no_incidents</th>\n",
       "      <th>2010 Census Population</th>\n",
       "    </tr>\n",
       "  </thead>\n",
       "  <tbody>\n",
       "    <tr>\n",
       "      <th>10001</th>\n",
       "      <td>83</td>\n",
       "      <td>21102</td>\n",
       "    </tr>\n",
       "    <tr>\n",
       "      <th>10002</th>\n",
       "      <td>114</td>\n",
       "      <td>81410</td>\n",
       "    </tr>\n",
       "    <tr>\n",
       "      <th>10003</th>\n",
       "      <td>82</td>\n",
       "      <td>56024</td>\n",
       "    </tr>\n",
       "    <tr>\n",
       "      <th>10004</th>\n",
       "      <td>8</td>\n",
       "      <td>3089</td>\n",
       "    </tr>\n",
       "    <tr>\n",
       "      <th>10005</th>\n",
       "      <td>5</td>\n",
       "      <td>7135</td>\n",
       "    </tr>\n",
       "  </tbody>\n",
       "</table>\n",
       "</div>"
      ],
      "text/plain": [
       "       no_incidents  2010 Census Population\n",
       "10001            83                   21102\n",
       "10002           114                   81410\n",
       "10003            82                   56024\n",
       "10004             8                    3089\n",
       "10005             5                    7135"
      ]
     },
     "execution_count": 26,
     "metadata": {},
     "output_type": "execute_result"
    }
   ],
   "source": [
    "#join both tables using zipcode as index\n",
    "zipcode_incidents=zipcode_incidents.join(census_data,how='inner')\n",
    "zipcode_incidents.head()"
   ]
  },
  {
   "cell_type": "code",
   "execution_count": 100,
   "metadata": {},
   "outputs": [
    {
     "data": {
      "image/png": "[encoded data removed]",
      "text/plain": [
       "<matplotlib.figure.Figure at 0x242a5267c88>"
      ]
     },
     "metadata": {},
     "output_type": "display_data"
    }
   ],
   "source": [
    "plt.scatter(zipcode_incidents['2010 Census Population'],zipcode_incidents['no_incidents'])\n",
    "plt.show()\n",
    "#coefficient_of_dermination = r2_score(zipcode_incidents['2010 Census Population'],zipcode_incidents['no_incidents'])\n",
    "#print(coefficient_of_dermination)"
   ]
  },
  {
   "cell_type": "code",
   "execution_count": 101,
   "metadata": {},
   "outputs": [
    {
     "name": "stdout",
     "output_type": "stream",
     "text": [
      "0.77287734788\n"
     ]
    }
   ],
   "source": [
    "from scipy import stats\n",
    "slope, intercept, r_value, p_value, std_err = stats.linregress( zipcode_incidents['2010 Census Population'],zipcode_incidents['no_incidents'])\n",
    "print(r_value)"
   ]
  },
  {
   "cell_type": "markdown",
   "metadata": {},
   "source": [
    "#### Calculate the chi-square test statistic for testing whether an incident is more likely to last longer than 60 minutes when CO detector is not present. Again only consider incidents that have information about whether a CO detector was present or not."
   ]
  },
  {
   "cell_type": "code",
   "execution_count": 79,
   "metadata": {},
   "outputs": [
    {
     "data": {
      "text/html": [
       "<div>\n",
       "<style>\n",
       "    .dataframe thead tr:only-child th {\n",
       "        text-align: right;\n",
       "    }\n",
       "\n",
       "    .dataframe thead th {\n",
       "        text-align: left;\n",
       "    }\n",
       "\n",
       "    .dataframe tbody tr th {\n",
       "        vertical-align: top;\n",
       "    }\n",
       "</style>\n",
       "<table border=\"1\" class=\"dataframe\">\n",
       "  <thead>\n",
       "    <tr style=\"text-align: right;\">\n",
       "      <th></th>\n",
       "      <th>INCIDENT_TYPE_DESC</th>\n",
       "      <th>TOTAL_INCIDENT_DURATION</th>\n",
       "      <th>CO_DETECTOR_PRESENT_DESC</th>\n",
       "    </tr>\n",
       "  </thead>\n",
       "  <tbody>\n",
       "    <tr>\n",
       "      <th>28</th>\n",
       "      <td>746 - Carbon monoxide detector activation, no CO</td>\n",
       "      <td>1300.0</td>\n",
       "      <td>Yes</td>\n",
       "    </tr>\n",
       "    <tr>\n",
       "      <th>153</th>\n",
       "      <td>736 - CO detector activation due to malfunction</td>\n",
       "      <td>398.0</td>\n",
       "      <td>Yes</td>\n",
       "    </tr>\n",
       "    <tr>\n",
       "      <th>194</th>\n",
       "      <td>400 - Hazardous condition, other</td>\n",
       "      <td>1547.0</td>\n",
       "      <td>No</td>\n",
       "    </tr>\n",
       "    <tr>\n",
       "      <th>249</th>\n",
       "      <td>424 - Carbon monoxide incident</td>\n",
       "      <td>904.0</td>\n",
       "      <td>Yes</td>\n",
       "    </tr>\n",
       "    <tr>\n",
       "      <th>449</th>\n",
       "      <td>424 - Carbon monoxide incident</td>\n",
       "      <td>1871.0</td>\n",
       "      <td>Yes</td>\n",
       "    </tr>\n",
       "  </tbody>\n",
       "</table>\n",
       "</div>"
      ],
      "text/plain": [
       "                                   INCIDENT_TYPE_DESC  \\\n",
       "28   746 - Carbon monoxide detector activation, no CO   \n",
       "153   736 - CO detector activation due to malfunction   \n",
       "194                  400 - Hazardous condition, other   \n",
       "249                    424 - Carbon monoxide incident   \n",
       "449                    424 - Carbon monoxide incident   \n",
       "\n",
       "     TOTAL_INCIDENT_DURATION CO_DETECTOR_PRESENT_DESC  \n",
       "28                    1300.0                      Yes  \n",
       "153                    398.0                      Yes  \n",
       "194                   1547.0                       No  \n",
       "249                    904.0                      Yes  \n",
       "449                   1871.0                      Yes  "
      ]
     },
     "execution_count": 79,
     "metadata": {},
     "output_type": "execute_result"
    }
   ],
   "source": [
    "COdetector_data.head()"
   ]
  },
  {
   "cell_type": "code",
   "execution_count": 136,
   "metadata": {
    "collapsed": true
   },
   "outputs": [],
   "source": [
    "#null hypothesis-incident is more likely when CO detector is absent\n",
    "CO_all_list=COdetector_data['TOTAL_INCIDENT_DURATION'].tolist()\n",
    "CO_all_list=np.array(CO_all_list)/60\n",
    "CO_present=COdetector_data[COdetector_data['CO_DETECTOR_PRESENT_DESC']=='Yes']['TOTAL_INCIDENT_DURATION']\n",
    "CO_present=CO_present/60\n",
    "CO_present_longer_than_60min_freq=len(CO_present[CO_present>60.0])/len(CO_present)\n",
    "CO_long=(np.sum(CO_present_longer_than_60min_freq))\n",
    "\n",
    "CO_present_shorter_than_60min_freq=len(CO_present[CO_present<=60.0])/len(CO_present)\n",
    "CO_short=(np.sum(CO_present_shorter_than_60min_freq))\n",
    "\n",
    "CO_absent=COdetector_data[COdetector_data['CO_DETECTOR_PRESENT_DESC']=='No']['TOTAL_INCIDENT_DURATION']\n",
    "CO_absent=CO_absent/60\n",
    "CO_absent_longer_than_60min_freq=len(CO_absent[CO_absent>60.0])/len(CO_absent)\n",
    "CO_absent_shorter_than_60min_freq=len(CO_absent[CO_absent<=60.0])/len(CO_absent)\n",
    "noCO_long=(np.sum(CO_absent_longer_than_60min_freq))\n",
    "noCO_short=(np.sum(CO_absent_shorter_than_60min_freq))"
   ]
  },
  {
   "cell_type": "code",
   "execution_count": 137,
   "metadata": {
    "scrolled": true
   },
   "outputs": [
    {
     "name": "stdout",
     "output_type": "stream",
     "text": [
      "4.59606380394 0.0320454500224\n"
     ]
    }
   ],
   "source": [
    "obs = np.array([[CO_long, CO_short], [noCO_long, noCO_short]])\n",
    "chi2, p, dof, expected = stats.chi2_contingency(obs)\n",
    "print (chi2,p)"
   ]
  },
  {
   "cell_type": "code",
   "execution_count": null,
   "metadata": {
    "collapsed": true
   },
   "outputs": [],
   "source": []
  }
 ],
 "metadata": {
  "kernelspec": {
   "display_name": "Python [conda env:Anaconda3]",
   "language": "python",
   "name": "conda-env-Anaconda3-py"
  },
  "language_info": {
   "codemirror_mode": {
    "name": "ipython",
    "version": 3
   },
   "file_extension": ".py",
   "mimetype": "text/x-python",
   "name": "python",
   "nbconvert_exporter": "python",
   "pygments_lexer": "ipython3",
   "version": "3.6.2"
  }
 },
 "nbformat": 4,
 "nbformat_minor": 2
}
